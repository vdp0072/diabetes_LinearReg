{
 "cells": [
  {
   "cell_type": "markdown",
   "id": "gentle-pixel",
   "metadata": {},
   "source": [
    "# Linear Regression"
   ]
  },
  {
   "cell_type": "markdown",
   "id": "finished-occasion",
   "metadata": {},
   "source": [
    "- Load dataset\n",
    "- Split dataset into design matrix $X$ and label $y$\n",
    "- Compute predictions, loss and gradients\n",
    "- Use gradient decent to minimize loss to get optimal $\\theta$'s"
   ]
  },
  {
   "cell_type": "markdown",
   "id": "expanded-breeding",
   "metadata": {},
   "source": [
    "## 1.1 Dataset: \n",
    "Diabetes dataset from sklearn in loaded with all features and lables.\n",
    "\n",
    "The 'diabetes risk' score (lable) is predicted using the 'bmi' variable (x):\n",
    "$$ y = \\theta_0 + \\theta_1 x $$\n",
    "\n",
    "## 1.2 Split data\n",
    "20 points from the dataset are used for training and a column of 1's is added to the X matrix in order to compute $\\theta_0$"
   ]
  },
  {
   "cell_type": "code",
   "execution_count": 1,
   "id": "combined-helmet",
   "metadata": {},
   "outputs": [
    {
     "data": {
      "image/png": "[encoded data removed]",
      "text/plain": [
       "<Figure size 576x288 with 1 Axes>"
      ]
     },
     "metadata": {
      "needs_background": "light"
     },
     "output_type": "display_data"
    }
   ],
   "source": [
    "%matplotlib inline\n",
    "import matplotlib.pyplot as plt\n",
    "plt.rcParams['figure.figsize'] = [8, 4]\n",
    "\n",
    "import numpy as np\n",
    "import pandas as pd\n",
    "from sklearn import datasets\n",
    "\n",
    "# Load the diabetes dataset\n",
    "X, y = datasets.load_diabetes(return_X_y=True, as_frame=True)\n",
    "\n",
    "# add an extra column of onens\n",
    "X['one'] = 1\n",
    "\n",
    "# Collect 20 data points and only use bmi dimension\n",
    "X_train = X.iloc[-20:].loc[:, ['bmi', 'one']]\n",
    "y_train = y.iloc[-20:] / 300\n",
    "\n",
    "plt.scatter(X_train.loc[:,['bmi']], y_train,  color='black')\n",
    "plt.xlabel('Body Mass Index (BMI)')\n",
    "plt.ylabel('Diabetes Risk')\n",
    "plt.show()"
   ]
  },
  {
   "cell_type": "markdown",
   "id": "demonstrated-barbados",
   "metadata": {},
   "source": [
    "## 1.3 Prediction\n",
    "Function $f(X, \\theta)$ calculates the prediction at each iteration.\n",
    "\n",
    "The mean_squared_error computes the loss for each prediction:\n",
    "$$ mse = \\frac{1}{2n}\\sum_i (y - \\hat{y})^2$$\n",
    "\n",
    "The mse_gradient the loss gradient at each iteration which is used in graient descent."
   ]
  },
  {
   "cell_type": "code",
   "execution_count": 2,
   "id": "british-calculation",
   "metadata": {},
   "outputs": [],
   "source": [
    "def f(X, theta):\n",
    "    \"\"\"The linear model we are trying to fit.\n",
    "    \n",
    "    Parameters:\n",
    "    theta (np.array): d-dimensional vector of parameters\n",
    "    X (np.array): (n,d)-dimensional data matrix\n",
    "    \n",
    "    Returns:\n",
    "    y_pred (np.array): n-dimensional vector of predicted targets\n",
    "    \"\"\"\n",
    "    return X.dot(theta)"
   ]
  },
  {
   "cell_type": "code",
   "execution_count": 3,
   "id": "touched-valve",
   "metadata": {},
   "outputs": [],
   "source": [
    "def mean_squared_error(theta, X, y):\n",
    "    \"\"\"The cost function, J, describing the goodness of fit.\n",
    "    \n",
    "    Parameters:\n",
    "    theta (np.array): d-dimensional vector of parameters\n",
    "    X (np.array): (n,d)-dimensional design matrix\n",
    "    y (np.array): n-dimensional vector of targets\n",
    "    \"\"\"\n",
    "    return 0.5*np.mean((y-f(X, theta))**2)"
   ]
  },
  {
   "cell_type": "code",
   "execution_count": 4,
   "id": "raised-roots",
   "metadata": {},
   "outputs": [],
   "source": [
    "def mse_gradient(theta, X, y):\n",
    "    \"\"\"The gradient of the cost function.\n",
    "    \n",
    "    Parameters:\n",
    "    theta (np.array): d-dimensional vector of parameters\n",
    "    X (np.array): (n,d)-dimensional design matrix\n",
    "    y (np.array): n-dimensional vector of targets\n",
    "    \n",
    "    Returns:\n",
    "    grad (np.array): d-dimensional gradient of the MSE\n",
    "    \"\"\"\n",
    "    return np.mean((f(X, theta) - y) * X.T, axis=1)"
   ]
  },
  {
   "cell_type": "markdown",
   "id": "welsh-scope",
   "metadata": {},
   "source": [
    "## 1.4 Gradient descent\n",
    "$$ \\theta := \\theta - \\alpha \\nabla \\theta $$\n",
    "\n",
    "$\\theta$ is intitialized and at each iteration a new approximation to $\\theta$ is computed using gradient descent. \n",
    "\n",
    "The learning rate $\\alpha$ is set to 0.4 and the iterations are terminated when $\\theta$ doesn't improve beyond 3 decimals."
   ]
  },
  {
   "cell_type": "code",
   "execution_count": 9,
   "id": "subject-wrong",
   "metadata": {},
   "outputs": [
    {
     "name": "stdout",
     "output_type": "stream",
     "text": [
      "Iteration 0. MSE: 0.171729\n",
      "Iteration 100. MSE: 0.014765\n",
      "Iteration 200. MSE: 0.014349\n",
      "Iteration 300. MSE: 0.013997\n",
      "Iteration 400. MSE: 0.013701\n"
     ]
    }
   ],
   "source": [
    "threshold = 1e-3\n",
    "step_size = 4e-1\n",
    "theta, theta_prev = np.array([2,1]), np.ones(2,)\n",
    "opt_pts = [theta]\n",
    "opt_grads = []\n",
    "mse = []\n",
    "iter = 0\n",
    "\n",
    "while np.linalg.norm(theta - theta_prev) > threshold:\n",
    "    mse += [mean_squared_error(theta, X_train, y_train)]\n",
    "    if iter % 100 == 0:\n",
    "        print('Iteration %d. MSE: %.6f' % (iter, mse[iter]))\n",
    "    theta_prev = theta\n",
    "    gradient = mse_gradient(theta, X_train, y_train)\n",
    "    theta = theta_prev - step_size * gradient\n",
    "    opt_pts += [theta]\n",
    "    opt_grads += [gradient]\n",
    "    iter += 1"
   ]
  },
  {
   "cell_type": "code",
   "execution_count": 6,
   "id": "overall-method",
   "metadata": {},
   "outputs": [
    {
     "data": {
      "image/png": "[encoded data removed]",
      "text/plain": [
       "<Figure size 576x288 with 1 Axes>"
      ]
     },
     "metadata": {
      "needs_background": "light"
     },
     "output_type": "display_data"
    }
   ],
   "source": [
    "iter = np.linspace(0, len(mse)-1, len(mse))\n",
    "plt.plot(iter, mse, 'k')\n",
    "plt.xlabel(\"iterations\")\n",
    "plt.ylabel(\"mean squared error\")\n",
    "plt.title(\"Diminishing loss in gradient descent\")\n",
    "plt.show()"
   ]
  },
  {
   "cell_type": "code",
   "execution_count": 7,
   "id": "changing-soviet",
   "metadata": {},
   "outputs": [
    {
     "name": "stdout",
     "output_type": "stream",
     "text": [
      "Optimal solution:\n",
      "bmi    2.555471\n",
      "one    0.446141\n",
      "dtype: float64\n"
     ]
    }
   ],
   "source": [
    "print(\"Optimal solution:\")\n",
    "print(opt_pts[-1])"
   ]
  },
  {
   "cell_type": "code",
   "execution_count": 8,
   "id": "racial-blame",
   "metadata": {},
   "outputs": [
    {
     "data": {
      "image/png": "[encoded data removed]",
      "text/plain": [
       "<Figure size 576x288 with 1 Axes>"
      ]
     },
     "metadata": {
      "needs_background": "light"
     },
     "output_type": "display_data"
    }
   ],
   "source": [
    "x_line = np.stack([np.linspace(-0.1, 0.1, 10), np.ones(10,)])\n",
    "y_line = opt_pts[-1].dot(x_line)\n",
    "\n",
    "plt.scatter(X_train.loc[:,['bmi']], y_train,  color='black')\n",
    "plt.plot(x_line[0], y_line)\n",
    "plt.xlabel('Body Mass Index (BMI)')\n",
    "plt.ylabel('Diabetes Risk')\n",
    "plt.title(\"Linear regression line over the dataset\")\n",
    "plt.show()"
   ]
  }
 ],
 "metadata": {
  "kernelspec": {
   "display_name": "Python 3 (ipykernel)",
   "language": "python",
   "name": "python3"
  },
  "language_info": {
   "codemirror_mode": {
    "name": "ipython",
    "version": 3
   },
   "file_extension": ".py",
   "mimetype": "text/x-python",
   "name": "python",
   "nbconvert_exporter": "python",
   "pygments_lexer": "ipython3",
   "version": "3.9.2"
  }
 },
 "nbformat": 4,
 "nbformat_minor": 5
}
